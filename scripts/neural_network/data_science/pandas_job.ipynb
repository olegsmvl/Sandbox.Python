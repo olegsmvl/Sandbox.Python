{
 "cells": [
  {
   "cell_type": "code",
   "execution_count": 1,
   "id": "858d8ea3-3a8b-483d-ac8b-18101bda721d",
   "metadata": {},
   "outputs": [],
   "source": [
    "import pandas as pd"
   ]
  },
  {
   "cell_type": "code",
   "execution_count": 2,
   "id": "b230f43d-10df-4e0a-9355-ca0ddcb21be8",
   "metadata": {},
   "outputs": [],
   "source": [
    "df = pd.read_csv('/home/fly/work/job_data/cpp_all_onsite_belgrade_26_08_24.csv')"
   ]
  },
  {
   "cell_type": "code",
   "execution_count": 3,
   "id": "872b4b2b-eaea-49ed-adc5-9777adef5a15",
   "metadata": {},
   "outputs": [
    {
     "data": {
      "text/plain": [
       "(777, 13)"
      ]
     },
     "execution_count": 3,
     "metadata": {},
     "output_type": "execute_result"
    }
   ],
   "source": [
    "df.shape"
   ]
  },
  {
   "cell_type": "code",
   "execution_count": 4,
   "id": "bb4ba92c-6b7f-49ff-b58e-42bd5d20c7e2",
   "metadata": {},
   "outputs": [
    {
     "data": {
      "text/plain": [
       "Index(['Title', 'Description', 'Primary Description', 'Detail URL', 'Location',\n",
       "       'Skill', 'Insight', 'Job State', 'Poster Id', 'Company Name',\n",
       "       'Company Logo', 'Created At', 'Scraped At'],\n",
       "      dtype='object')"
      ]
     },
     "execution_count": 4,
     "metadata": {},
     "output_type": "execute_result"
    }
   ],
   "source": [
    "df.columns"
   ]
  },
  {
   "cell_type": "code",
   "execution_count": 5,
   "id": "05fac6ba-4b05-4230-8445-7c3a4f8a4525",
   "metadata": {},
   "outputs": [
    {
     "data": {
      "text/html": [
       "<div>\n",
       "<style scoped>\n",
       "    .dataframe tbody tr th:only-of-type {\n",
       "        vertical-align: middle;\n",
       "    }\n",
       "\n",
       "    .dataframe tbody tr th {\n",
       "        vertical-align: top;\n",
       "    }\n",
       "\n",
       "    .dataframe thead th {\n",
       "        text-align: right;\n",
       "    }\n",
       "</style>\n",
       "<table border=\"1\" class=\"dataframe\">\n",
       "  <thead>\n",
       "    <tr style=\"text-align: right;\">\n",
       "      <th></th>\n",
       "      <th>Title</th>\n",
       "      <th>Description</th>\n",
       "      <th>Primary Description</th>\n",
       "      <th>Detail URL</th>\n",
       "      <th>Location</th>\n",
       "      <th>Skill</th>\n",
       "      <th>Insight</th>\n",
       "      <th>Job State</th>\n",
       "      <th>Poster Id</th>\n",
       "      <th>Company Name</th>\n",
       "      <th>Company Logo</th>\n",
       "      <th>Created At</th>\n",
       "      <th>Scraped At</th>\n",
       "    </tr>\n",
       "  </thead>\n",
       "  <tbody>\n",
       "    <tr>\n",
       "      <th>0</th>\n",
       "      <td>Engine Engineer</td>\n",
       "      <td>We are a world leading Engine MRO service prov...</td>\n",
       "      <td>SR Technics Group · Belgrade, Serbia (On-site)</td>\n",
       "      <td>https://www.linkedin.com/jobs/view/3622263882/</td>\n",
       "      <td>Belgrade, Serbia</td>\n",
       "      <td>Skills: Problem Solving</td>\n",
       "      <td>NaN</td>\n",
       "      <td>LISTED</td>\n",
       "      <td>885570976.0</td>\n",
       "      <td>SR Technics Group</td>\n",
       "      <td>https://media.licdn.com/dms/image/v2/C4D0BAQEo...</td>\n",
       "      <td>2023-06-01T11:55:17.000Z</td>\n",
       "      <td>2024-08-26T00:18:48.821Z</td>\n",
       "    </tr>\n",
       "    <tr>\n",
       "      <th>1</th>\n",
       "      <td>Senior Back End Developer (Hybrid)</td>\n",
       "      <td>KMS Lighthouse is a global software (SaaS) com...</td>\n",
       "      <td>KMS Lighthouse · Novi Beograd, Serbia (On-site)</td>\n",
       "      <td>https://www.linkedin.com/jobs/view/3623807169/</td>\n",
       "      <td>Novi Beograd, Serbia</td>\n",
       "      <td>Skills: Back-End Web Development, Software Dev...</td>\n",
       "      <td>NaN</td>\n",
       "      <td>LISTED</td>\n",
       "      <td>NaN</td>\n",
       "      <td>KMS Lighthouse</td>\n",
       "      <td>https://media.licdn.com/dms/image/v2/C4E0BAQHD...</td>\n",
       "      <td>2023-06-05T20:16:29.000Z</td>\n",
       "      <td>2024-08-26T00:18:24.953Z</td>\n",
       "    </tr>\n",
       "    <tr>\n",
       "      <th>2</th>\n",
       "      <td>Data Integration Engineer, HR Systems</td>\n",
       "      <td>Group Description\\n\\nAt Magna, we create techn...</td>\n",
       "      <td>Magna International · Belgrade, Serbia (On-site)</td>\n",
       "      <td>https://www.linkedin.com/jobs/view/3630229397/</td>\n",
       "      <td>Belgrade, Serbia</td>\n",
       "      <td>Skills: Databases, Integration Development, +8...</td>\n",
       "      <td>NaN</td>\n",
       "      <td>LISTED</td>\n",
       "      <td>338991220.0</td>\n",
       "      <td>Magna International</td>\n",
       "      <td>https://media.licdn.com/dms/image/v2/D560BAQEI...</td>\n",
       "      <td>2023-06-07T15:45:11.000Z</td>\n",
       "      <td>2024-08-26T00:17:49.228Z</td>\n",
       "    </tr>\n",
       "  </tbody>\n",
       "</table>\n",
       "</div>"
      ],
      "text/plain": [
       "                                   Title  \\\n",
       "0                        Engine Engineer   \n",
       "1     Senior Back End Developer (Hybrid)   \n",
       "2  Data Integration Engineer, HR Systems   \n",
       "\n",
       "                                         Description  \\\n",
       "0  We are a world leading Engine MRO service prov...   \n",
       "1  KMS Lighthouse is a global software (SaaS) com...   \n",
       "2  Group Description\\n\\nAt Magna, we create techn...   \n",
       "\n",
       "                                Primary Description  \\\n",
       "0    SR Technics Group · Belgrade, Serbia (On-site)   \n",
       "1   KMS Lighthouse · Novi Beograd, Serbia (On-site)   \n",
       "2  Magna International · Belgrade, Serbia (On-site)   \n",
       "\n",
       "                                       Detail URL              Location  \\\n",
       "0  https://www.linkedin.com/jobs/view/3622263882/      Belgrade, Serbia   \n",
       "1  https://www.linkedin.com/jobs/view/3623807169/  Novi Beograd, Serbia   \n",
       "2  https://www.linkedin.com/jobs/view/3630229397/      Belgrade, Serbia   \n",
       "\n",
       "                                               Skill Insight Job State  \\\n",
       "0                            Skills: Problem Solving     NaN    LISTED   \n",
       "1  Skills: Back-End Web Development, Software Dev...     NaN    LISTED   \n",
       "2  Skills: Databases, Integration Development, +8...     NaN    LISTED   \n",
       "\n",
       "     Poster Id         Company Name  \\\n",
       "0  885570976.0    SR Technics Group   \n",
       "1          NaN       KMS Lighthouse   \n",
       "2  338991220.0  Magna International   \n",
       "\n",
       "                                        Company Logo  \\\n",
       "0  https://media.licdn.com/dms/image/v2/C4D0BAQEo...   \n",
       "1  https://media.licdn.com/dms/image/v2/C4E0BAQHD...   \n",
       "2  https://media.licdn.com/dms/image/v2/D560BAQEI...   \n",
       "\n",
       "                 Created At                Scraped At  \n",
       "0  2023-06-01T11:55:17.000Z  2024-08-26T00:18:48.821Z  \n",
       "1  2023-06-05T20:16:29.000Z  2024-08-26T00:18:24.953Z  \n",
       "2  2023-06-07T15:45:11.000Z  2024-08-26T00:17:49.228Z  "
      ]
     },
     "execution_count": 5,
     "metadata": {},
     "output_type": "execute_result"
    }
   ],
   "source": [
    "df.head(3)"
   ]
  },
  {
   "cell_type": "code",
   "execution_count": 6,
   "id": "959fb863-a4eb-4526-97f7-2a6eb5fce484",
   "metadata": {},
   "outputs": [
    {
     "name": "stdout",
     "output_type": "stream",
     "text": [
      "DataFrame saved as HTML page successfully.\n"
     ]
    }
   ],
   "source": [
    "# Функция для замены \\n\\n на <br>\n",
    "def replace_newlines(text):\n",
    "    return text.replace('\\n', '<br>')\n",
    "\n",
    "def make_clickable(val):\n",
    "    return f'<a href=\"{val}\">{val}</a>'\n",
    "\n",
    "# Save the DataFrame as an HTML file\n",
    "html_output = df.to_html(escape=False)\n",
    "\n",
    "# Применение функции ко всем строкам в DataFrame\n",
    "df['Description'] = df['Description'].apply(replace_newlines)\n",
    "df['Detail URL'] = df['Detail URL'].apply(make_clickable)\n",
    "\n",
    "# Write the HTML to a file\n",
    "with open('/home/fly/temp/dataframe.html', 'w') as file:\n",
    "    file.write(html_output)\n",
    "\n",
    "print(\"DataFrame saved as HTML page successfully.\")"
   ]
  },
  {
   "cell_type": "code",
   "execution_count": 7,
   "id": "ec2a115a-a7ec-4c97-ae50-f446a2556f2b",
   "metadata": {},
   "outputs": [
    {
     "data": {
      "text/plain": [
       "0                               Skills: Problem Solving\n",
       "1     Skills: Back-End Web Development, Software Dev...\n",
       "2     Skills: Databases, Integration Development, +8...\n",
       "3                            Skills: Java, C++, +8 more\n",
       "4                            Skills: Java, C++, +8 more\n",
       "5                      Skills: Java, Databases, +8 more\n",
       "6      Skills: Databases, Software Development, +8 more\n",
       "7     Skills: Python (Programming Language), Communi...\n",
       "8     Skills: Python (Programming Language), English...\n",
       "9     Skills: Python (Programming Language), Communi...\n",
       "10    Skills: Back-End Web Development, Software Dev...\n",
       "11     Skills: Databases, Software Development, +7 more\n",
       "12                     Skills: Java, Databases, +8 more\n",
       "13      Skills: Java, Back-End Web Development, +6 more\n",
       "14    Skills: REST APIs, Application Programming Int...\n",
       "15               Skills: Automotive, ISO 26262, +8 more\n",
       "16    Skills: Software Development, Amazon Web Servi...\n",
       "17        Skills: Software Testing, Test Cases, +8 more\n",
       "18           Skills: Databases, Doctrine (PHP), +2 more\n",
       "19         Skills: Component Engineering, RoHS, +7 more\n",
       "Name: Skill, dtype: object"
      ]
     },
     "execution_count": 7,
     "metadata": {},
     "output_type": "execute_result"
    }
   ],
   "source": [
    "descriptions = df['Skill']\n",
    "descriptions.head(20)"
   ]
  },
  {
   "cell_type": "code",
   "execution_count": 8,
   "id": "e6dcbb5f-6273-4776-a3b5-12ea1d49e528",
   "metadata": {
    "scrolled": true
   },
   "outputs": [
    {
     "data": {
      "text/plain": [
       "Company Name\n",
       "Playrix          21\n",
       "Wargaming        19\n",
       "Grid Dynamics    16\n",
       "Luxoft           14\n",
       "Qinshift         14\n",
       "FIS              13\n",
       "Microsoft        12\n",
       "Rivian           12\n",
       "Endava           12\n",
       "Databricks       10\n",
       "Name: count, dtype: int64"
      ]
     },
     "execution_count": 8,
     "metadata": {},
     "output_type": "execute_result"
    }
   ],
   "source": [
    "df['Company Name'].value_counts().head(10)"
   ]
  },
  {
   "cell_type": "code",
   "execution_count": 9,
   "id": "6a5ad501-cac1-41a1-8dda-e3cfcb524db1",
   "metadata": {},
   "outputs": [
    {
     "data": {
      "text/html": [
       "<div>\n",
       "<style scoped>\n",
       "    .dataframe tbody tr th:only-of-type {\n",
       "        vertical-align: middle;\n",
       "    }\n",
       "\n",
       "    .dataframe tbody tr th {\n",
       "        vertical-align: top;\n",
       "    }\n",
       "\n",
       "    .dataframe thead th {\n",
       "        text-align: right;\n",
       "    }\n",
       "</style>\n",
       "<table border=\"1\" class=\"dataframe\">\n",
       "  <thead>\n",
       "    <tr style=\"text-align: right;\">\n",
       "      <th></th>\n",
       "      <th>Title</th>\n",
       "      <th>Description</th>\n",
       "      <th>Primary Description</th>\n",
       "      <th>Detail URL</th>\n",
       "      <th>Location</th>\n",
       "      <th>Skill</th>\n",
       "      <th>Insight</th>\n",
       "      <th>Job State</th>\n",
       "      <th>Poster Id</th>\n",
       "      <th>Company Name</th>\n",
       "      <th>Company Logo</th>\n",
       "      <th>Created At</th>\n",
       "      <th>Scraped At</th>\n",
       "    </tr>\n",
       "  </thead>\n",
       "  <tbody>\n",
       "    <tr>\n",
       "      <th>3</th>\n",
       "      <td>Staff Software Engineer - Backend</td>\n",
       "      <td>P-962&lt;br&gt;&lt;br&gt;At Databricks, we are passionate ...</td>\n",
       "      <td>Databricks · Belgrade, Serbia</td>\n",
       "      <td>&lt;a href=\"https://www.linkedin.com/jobs/view/36...</td>\n",
       "      <td>Belgrade, Serbia</td>\n",
       "      <td>Skills: Java, C++, +8 more</td>\n",
       "      <td>NaN</td>\n",
       "      <td>LISTED</td>\n",
       "      <td>115696170.0</td>\n",
       "      <td>Databricks</td>\n",
       "      <td>https://media.licdn.com/dms/image/v2/D560BAQFP...</td>\n",
       "      <td>2023-07-31T20:23:28.000Z</td>\n",
       "      <td>2024-08-26T00:15:13.699Z</td>\n",
       "    </tr>\n",
       "    <tr>\n",
       "      <th>4</th>\n",
       "      <td>Staff Software Engineer - Distributed Data Sys...</td>\n",
       "      <td>P-960&lt;br&gt;&lt;br&gt;At Databricks, we are passionate ...</td>\n",
       "      <td>Databricks · Belgrade, Serbia</td>\n",
       "      <td>&lt;a href=\"https://www.linkedin.com/jobs/view/36...</td>\n",
       "      <td>Belgrade, Serbia</td>\n",
       "      <td>Skills: Java, C++, +8 more</td>\n",
       "      <td>NaN</td>\n",
       "      <td>LISTED</td>\n",
       "      <td>115696170.0</td>\n",
       "      <td>Databricks</td>\n",
       "      <td>https://media.licdn.com/dms/image/v2/D560BAQFP...</td>\n",
       "      <td>2023-07-31T20:23:31.000Z</td>\n",
       "      <td>2024-08-26T00:16:13.669Z</td>\n",
       "    </tr>\n",
       "    <tr>\n",
       "      <th>5</th>\n",
       "      <td>Senior Software Engineer - Distributed Data Sy...</td>\n",
       "      <td>P-960&lt;br&gt;&lt;br&gt;At Databricks, we are passionate ...</td>\n",
       "      <td>Databricks · Belgrade, Serbia</td>\n",
       "      <td>&lt;a href=\"https://www.linkedin.com/jobs/view/36...</td>\n",
       "      <td>Belgrade, Serbia</td>\n",
       "      <td>Skills: Java, Databases, +8 more</td>\n",
       "      <td>NaN</td>\n",
       "      <td>LISTED</td>\n",
       "      <td>115696170.0</td>\n",
       "      <td>Databricks</td>\n",
       "      <td>https://media.licdn.com/dms/image/v2/D560BAQFP...</td>\n",
       "      <td>2023-07-31T20:23:29.000Z</td>\n",
       "      <td>2024-08-26T00:16:13.665Z</td>\n",
       "    </tr>\n",
       "    <tr>\n",
       "      <th>6</th>\n",
       "      <td>Senior Software Engineer - Database Engine Int...</td>\n",
       "      <td>P-961&lt;br&gt;&lt;br&gt;Our mission at Databricks is to r...</td>\n",
       "      <td>Databricks · Belgrade, Serbia</td>\n",
       "      <td>&lt;a href=\"https://www.linkedin.com/jobs/view/36...</td>\n",
       "      <td>Belgrade, Serbia</td>\n",
       "      <td>Skills: Databases, Software Development, +8 more</td>\n",
       "      <td>NaN</td>\n",
       "      <td>LISTED</td>\n",
       "      <td>115696170.0</td>\n",
       "      <td>Databricks</td>\n",
       "      <td>https://media.licdn.com/dms/image/v2/D560BAQFP...</td>\n",
       "      <td>2023-07-31T20:23:31.000Z</td>\n",
       "      <td>2024-08-26T00:15:49.832Z</td>\n",
       "    </tr>\n",
       "    <tr>\n",
       "      <th>11</th>\n",
       "      <td>Software Engineer - Database Engine Internals</td>\n",
       "      <td>P-961&lt;br&gt;&lt;br&gt;Our mission at Databricks is to r...</td>\n",
       "      <td>Databricks · Belgrade, Serbia</td>\n",
       "      <td>&lt;a href=\"https://www.linkedin.com/jobs/view/37...</td>\n",
       "      <td>Belgrade, Serbia</td>\n",
       "      <td>Skills: Databases, Software Development, +7 more</td>\n",
       "      <td>NaN</td>\n",
       "      <td>LISTED</td>\n",
       "      <td>115696170.0</td>\n",
       "      <td>Databricks</td>\n",
       "      <td>https://media.licdn.com/dms/image/v2/D560BAQFP...</td>\n",
       "      <td>2023-11-03T15:37:29.000Z</td>\n",
       "      <td>2024-08-26T00:16:01.754Z</td>\n",
       "    </tr>\n",
       "    <tr>\n",
       "      <th>12</th>\n",
       "      <td>Software Engineer - Distributed Data Systems</td>\n",
       "      <td>P-960&lt;br&gt;&lt;br&gt;At Databricks, we are passionate ...</td>\n",
       "      <td>Databricks · Belgrade, Serbia</td>\n",
       "      <td>&lt;a href=\"https://www.linkedin.com/jobs/view/37...</td>\n",
       "      <td>Belgrade, Serbia</td>\n",
       "      <td>Skills: Java, Databases, +8 more</td>\n",
       "      <td>NaN</td>\n",
       "      <td>LISTED</td>\n",
       "      <td>115696170.0</td>\n",
       "      <td>Databricks</td>\n",
       "      <td>https://media.licdn.com/dms/image/v2/D560BAQFP...</td>\n",
       "      <td>2023-11-03T15:37:29.000Z</td>\n",
       "      <td>2024-08-26T00:15:01.813Z</td>\n",
       "    </tr>\n",
       "    <tr>\n",
       "      <th>13</th>\n",
       "      <td>Software Engineer - Backend</td>\n",
       "      <td>P-962&lt;br&gt;&lt;br&gt;At Databricks, we are passionate ...</td>\n",
       "      <td>Databricks · Belgrade, Serbia</td>\n",
       "      <td>&lt;a href=\"https://www.linkedin.com/jobs/view/37...</td>\n",
       "      <td>Belgrade, Serbia</td>\n",
       "      <td>Skills: Java, Back-End Web Development, +6 more</td>\n",
       "      <td>NaN</td>\n",
       "      <td>LISTED</td>\n",
       "      <td>115696170.0</td>\n",
       "      <td>Databricks</td>\n",
       "      <td>https://media.licdn.com/dms/image/v2/D560BAQFP...</td>\n",
       "      <td>2023-11-03T15:37:29.000Z</td>\n",
       "      <td>2024-08-26T00:14:49.729Z</td>\n",
       "    </tr>\n",
       "    <tr>\n",
       "      <th>56</th>\n",
       "      <td>Customer Data Engineer</td>\n",
       "      <td>CSQ325R2&lt;br&gt;&lt;br&gt;At Databricks, we are on a mis...</td>\n",
       "      <td>Databricks · Belgrade, Serbia</td>\n",
       "      <td>&lt;a href=\"https://www.linkedin.com/jobs/view/38...</td>\n",
       "      <td>Belgrade, Serbia</td>\n",
       "      <td>Skills: Data Engineering, Google Cloud Platfor...</td>\n",
       "      <td>NaN</td>\n",
       "      <td>LISTED</td>\n",
       "      <td>115696170.0</td>\n",
       "      <td>Databricks</td>\n",
       "      <td>https://media.licdn.com/dms/image/v2/D560BAQFP...</td>\n",
       "      <td>2024-04-05T14:16:51.000Z</td>\n",
       "      <td>2024-08-26T00:17:25.529Z</td>\n",
       "    </tr>\n",
       "    <tr>\n",
       "      <th>176</th>\n",
       "      <td>Staff Software Engineer - Database Engine Inte...</td>\n",
       "      <td>P-961&lt;br&gt;&lt;br&gt;Our mission at Databricks is to r...</td>\n",
       "      <td>Databricks · Belgrade, Serbia</td>\n",
       "      <td>&lt;a href=\"https://www.linkedin.com/jobs/view/39...</td>\n",
       "      <td>Belgrade, Serbia</td>\n",
       "      <td>Skills: Software Development, Databases, +8 more</td>\n",
       "      <td>NaN</td>\n",
       "      <td>LISTED</td>\n",
       "      <td>115696170.0</td>\n",
       "      <td>Databricks</td>\n",
       "      <td>https://media.licdn.com/dms/image/v2/D560BAQFP...</td>\n",
       "      <td>2024-06-21T02:19:59.000Z</td>\n",
       "      <td>2024-08-26T00:17:13.630Z</td>\n",
       "    </tr>\n",
       "    <tr>\n",
       "      <th>177</th>\n",
       "      <td>Senior Software Engineer - Backend</td>\n",
       "      <td>P-962&lt;br&gt;&lt;br&gt;At Databricks, we are passionate ...</td>\n",
       "      <td>Databricks · Belgrade, Serbia</td>\n",
       "      <td>&lt;a href=\"https://www.linkedin.com/jobs/view/39...</td>\n",
       "      <td>Belgrade, Serbia</td>\n",
       "      <td>6 of 10 skills match your profile - you may be...</td>\n",
       "      <td>NaN</td>\n",
       "      <td>LISTED</td>\n",
       "      <td>115696170.0</td>\n",
       "      <td>Databricks</td>\n",
       "      <td>https://media.licdn.com/dms/image/v2/D560BAQFP...</td>\n",
       "      <td>2024-06-21T02:20:04.000Z</td>\n",
       "      <td>2024-08-26T00:15:25.663Z</td>\n",
       "    </tr>\n",
       "  </tbody>\n",
       "</table>\n",
       "</div>"
      ],
      "text/plain": [
       "                                                 Title  \\\n",
       "3                    Staff Software Engineer - Backend   \n",
       "4    Staff Software Engineer - Distributed Data Sys...   \n",
       "5    Senior Software Engineer - Distributed Data Sy...   \n",
       "6    Senior Software Engineer - Database Engine Int...   \n",
       "11       Software Engineer - Database Engine Internals   \n",
       "12        Software Engineer - Distributed Data Systems   \n",
       "13                         Software Engineer - Backend   \n",
       "56                              Customer Data Engineer   \n",
       "176  Staff Software Engineer - Database Engine Inte...   \n",
       "177                 Senior Software Engineer - Backend   \n",
       "\n",
       "                                           Description  \\\n",
       "3    P-962<br><br>At Databricks, we are passionate ...   \n",
       "4    P-960<br><br>At Databricks, we are passionate ...   \n",
       "5    P-960<br><br>At Databricks, we are passionate ...   \n",
       "6    P-961<br><br>Our mission at Databricks is to r...   \n",
       "11   P-961<br><br>Our mission at Databricks is to r...   \n",
       "12   P-960<br><br>At Databricks, we are passionate ...   \n",
       "13   P-962<br><br>At Databricks, we are passionate ...   \n",
       "56   CSQ325R2<br><br>At Databricks, we are on a mis...   \n",
       "176  P-961<br><br>Our mission at Databricks is to r...   \n",
       "177  P-962<br><br>At Databricks, we are passionate ...   \n",
       "\n",
       "               Primary Description  \\\n",
       "3    Databricks · Belgrade, Serbia   \n",
       "4    Databricks · Belgrade, Serbia   \n",
       "5    Databricks · Belgrade, Serbia   \n",
       "6    Databricks · Belgrade, Serbia   \n",
       "11   Databricks · Belgrade, Serbia   \n",
       "12   Databricks · Belgrade, Serbia   \n",
       "13   Databricks · Belgrade, Serbia   \n",
       "56   Databricks · Belgrade, Serbia   \n",
       "176  Databricks · Belgrade, Serbia   \n",
       "177  Databricks · Belgrade, Serbia   \n",
       "\n",
       "                                            Detail URL          Location  \\\n",
       "3    <a href=\"https://www.linkedin.com/jobs/view/36...  Belgrade, Serbia   \n",
       "4    <a href=\"https://www.linkedin.com/jobs/view/36...  Belgrade, Serbia   \n",
       "5    <a href=\"https://www.linkedin.com/jobs/view/36...  Belgrade, Serbia   \n",
       "6    <a href=\"https://www.linkedin.com/jobs/view/36...  Belgrade, Serbia   \n",
       "11   <a href=\"https://www.linkedin.com/jobs/view/37...  Belgrade, Serbia   \n",
       "12   <a href=\"https://www.linkedin.com/jobs/view/37...  Belgrade, Serbia   \n",
       "13   <a href=\"https://www.linkedin.com/jobs/view/37...  Belgrade, Serbia   \n",
       "56   <a href=\"https://www.linkedin.com/jobs/view/38...  Belgrade, Serbia   \n",
       "176  <a href=\"https://www.linkedin.com/jobs/view/39...  Belgrade, Serbia   \n",
       "177  <a href=\"https://www.linkedin.com/jobs/view/39...  Belgrade, Serbia   \n",
       "\n",
       "                                                 Skill Insight Job State  \\\n",
       "3                           Skills: Java, C++, +8 more     NaN    LISTED   \n",
       "4                           Skills: Java, C++, +8 more     NaN    LISTED   \n",
       "5                     Skills: Java, Databases, +8 more     NaN    LISTED   \n",
       "6     Skills: Databases, Software Development, +8 more     NaN    LISTED   \n",
       "11    Skills: Databases, Software Development, +7 more     NaN    LISTED   \n",
       "12                    Skills: Java, Databases, +8 more     NaN    LISTED   \n",
       "13     Skills: Java, Back-End Web Development, +6 more     NaN    LISTED   \n",
       "56   Skills: Data Engineering, Google Cloud Platfor...     NaN    LISTED   \n",
       "176   Skills: Software Development, Databases, +8 more     NaN    LISTED   \n",
       "177  6 of 10 skills match your profile - you may be...     NaN    LISTED   \n",
       "\n",
       "       Poster Id Company Name  \\\n",
       "3    115696170.0   Databricks   \n",
       "4    115696170.0   Databricks   \n",
       "5    115696170.0   Databricks   \n",
       "6    115696170.0   Databricks   \n",
       "11   115696170.0   Databricks   \n",
       "12   115696170.0   Databricks   \n",
       "13   115696170.0   Databricks   \n",
       "56   115696170.0   Databricks   \n",
       "176  115696170.0   Databricks   \n",
       "177  115696170.0   Databricks   \n",
       "\n",
       "                                          Company Logo  \\\n",
       "3    https://media.licdn.com/dms/image/v2/D560BAQFP...   \n",
       "4    https://media.licdn.com/dms/image/v2/D560BAQFP...   \n",
       "5    https://media.licdn.com/dms/image/v2/D560BAQFP...   \n",
       "6    https://media.licdn.com/dms/image/v2/D560BAQFP...   \n",
       "11   https://media.licdn.com/dms/image/v2/D560BAQFP...   \n",
       "12   https://media.licdn.com/dms/image/v2/D560BAQFP...   \n",
       "13   https://media.licdn.com/dms/image/v2/D560BAQFP...   \n",
       "56   https://media.licdn.com/dms/image/v2/D560BAQFP...   \n",
       "176  https://media.licdn.com/dms/image/v2/D560BAQFP...   \n",
       "177  https://media.licdn.com/dms/image/v2/D560BAQFP...   \n",
       "\n",
       "                   Created At                Scraped At  \n",
       "3    2023-07-31T20:23:28.000Z  2024-08-26T00:15:13.699Z  \n",
       "4    2023-07-31T20:23:31.000Z  2024-08-26T00:16:13.669Z  \n",
       "5    2023-07-31T20:23:29.000Z  2024-08-26T00:16:13.665Z  \n",
       "6    2023-07-31T20:23:31.000Z  2024-08-26T00:15:49.832Z  \n",
       "11   2023-11-03T15:37:29.000Z  2024-08-26T00:16:01.754Z  \n",
       "12   2023-11-03T15:37:29.000Z  2024-08-26T00:15:01.813Z  \n",
       "13   2023-11-03T15:37:29.000Z  2024-08-26T00:14:49.729Z  \n",
       "56   2024-04-05T14:16:51.000Z  2024-08-26T00:17:25.529Z  \n",
       "176  2024-06-21T02:19:59.000Z  2024-08-26T00:17:13.630Z  \n",
       "177  2024-06-21T02:20:04.000Z  2024-08-26T00:15:25.663Z  "
      ]
     },
     "execution_count": 9,
     "metadata": {},
     "output_type": "execute_result"
    }
   ],
   "source": [
    "df[df['Company Name'] == 'Databricks'].head(16)"
   ]
  },
  {
   "cell_type": "code",
   "execution_count": 10,
   "id": "d7a14036-94a7-4448-8e91-c4a0b22f1570",
   "metadata": {},
   "outputs": [
    {
     "data": {
      "text/plain": [
       "Location\n",
       "Belgrade, Serbia                        470\n",
       "Serbia                                  132\n",
       "Novi Sad, Vojvodina, Serbia              51\n",
       "Novi Beograd, Serbia                     24\n",
       "Vojvodina, Serbia                        11\n",
       "Niš, Centralna Srbija, Serbia            11\n",
       "Stari Grad, Serbia                        8\n",
       "Kragujevac, Centralna Srbija, Serbia      8\n",
       "Novi Sad Metropolitan Area                7\n",
       "Centralna Srbija, Serbia                  7\n",
       "Name: count, dtype: int64"
      ]
     },
     "execution_count": 10,
     "metadata": {},
     "output_type": "execute_result"
    }
   ],
   "source": [
    "df['Location'].value_counts().head(10)"
   ]
  },
  {
   "cell_type": "code",
   "execution_count": 11,
   "id": "fde00355-3fa9-40da-8b1b-537624a0c709",
   "metadata": {},
   "outputs": [
    {
     "data": {
      "text/html": [
       "<div>\n",
       "<style scoped>\n",
       "    .dataframe tbody tr th:only-of-type {\n",
       "        vertical-align: middle;\n",
       "    }\n",
       "\n",
       "    .dataframe tbody tr th {\n",
       "        vertical-align: top;\n",
       "    }\n",
       "\n",
       "    .dataframe thead th {\n",
       "        text-align: right;\n",
       "    }\n",
       "</style>\n",
       "<table border=\"1\" class=\"dataframe\">\n",
       "  <thead>\n",
       "    <tr style=\"text-align: right;\">\n",
       "      <th></th>\n",
       "      <th>Title</th>\n",
       "      <th>Description</th>\n",
       "      <th>Primary Description</th>\n",
       "      <th>Detail URL</th>\n",
       "      <th>Location</th>\n",
       "      <th>Skill</th>\n",
       "      <th>Insight</th>\n",
       "      <th>Job State</th>\n",
       "      <th>Poster Id</th>\n",
       "      <th>Company Name</th>\n",
       "      <th>Company Logo</th>\n",
       "      <th>Created At</th>\n",
       "      <th>Scraped At</th>\n",
       "    </tr>\n",
       "  </thead>\n",
       "  <tbody>\n",
       "  </tbody>\n",
       "</table>\n",
       "</div>"
      ],
      "text/plain": [
       "Empty DataFrame\n",
       "Columns: [Title, Description, Primary Description, Detail URL, Location, Skill, Insight, Job State, Poster Id, Company Name, Company Logo, Created At, Scraped At]\n",
       "Index: []"
      ]
     },
     "execution_count": 11,
     "metadata": {},
     "output_type": "execute_result"
    }
   ],
   "source": [
    "df[df['Location'] == 'Poland'].head(3)"
   ]
  },
  {
   "cell_type": "code",
   "execution_count": 12,
   "id": "1b8b6af3-b3ac-4e13-9702-c3c0191fbedf",
   "metadata": {},
   "outputs": [
    {
     "data": {
      "text/html": [
       "<div>\n",
       "<style scoped>\n",
       "    .dataframe tbody tr th:only-of-type {\n",
       "        vertical-align: middle;\n",
       "    }\n",
       "\n",
       "    .dataframe tbody tr th {\n",
       "        vertical-align: top;\n",
       "    }\n",
       "\n",
       "    .dataframe thead th {\n",
       "        text-align: right;\n",
       "    }\n",
       "</style>\n",
       "<table border=\"1\" class=\"dataframe\">\n",
       "  <thead>\n",
       "    <tr style=\"text-align: right;\">\n",
       "      <th></th>\n",
       "      <th>Title</th>\n",
       "      <th>Description</th>\n",
       "      <th>Primary Description</th>\n",
       "      <th>Detail URL</th>\n",
       "      <th>Location</th>\n",
       "      <th>Skill</th>\n",
       "      <th>Insight</th>\n",
       "      <th>Job State</th>\n",
       "      <th>Poster Id</th>\n",
       "      <th>Company Name</th>\n",
       "      <th>Company Logo</th>\n",
       "      <th>Created At</th>\n",
       "      <th>Scraped At</th>\n",
       "    </tr>\n",
       "  </thead>\n",
       "  <tbody>\n",
       "  </tbody>\n",
       "</table>\n",
       "</div>"
      ],
      "text/plain": [
       "Empty DataFrame\n",
       "Columns: [Title, Description, Primary Description, Detail URL, Location, Skill, Insight, Job State, Poster Id, Company Name, Company Logo, Created At, Scraped At]\n",
       "Index: []"
      ]
     },
     "execution_count": 12,
     "metadata": {},
     "output_type": "execute_result"
    }
   ],
   "source": [
    "df[df['Title'] == 'Robotics Software Engineer']"
   ]
  },
  {
   "cell_type": "code",
   "execution_count": 13,
   "id": "5dd04e3e-2fa7-4902-9830-73ef194e148f",
   "metadata": {},
   "outputs": [],
   "source": [
    "ser =  df['Title'].str.contains('developer|engineer|robotics', case=False, regex=True)\n",
    "filtered = df[ser]"
   ]
  },
  {
   "cell_type": "code",
   "execution_count": 14,
   "id": "23fd2616-fd6b-43b7-ac9d-98ccc5839c57",
   "metadata": {},
   "outputs": [
    {
     "data": {
      "text/html": [
       "<div>\n",
       "<style scoped>\n",
       "    .dataframe tbody tr th:only-of-type {\n",
       "        vertical-align: middle;\n",
       "    }\n",
       "\n",
       "    .dataframe tbody tr th {\n",
       "        vertical-align: top;\n",
       "    }\n",
       "\n",
       "    .dataframe thead th {\n",
       "        text-align: right;\n",
       "    }\n",
       "</style>\n",
       "<table border=\"1\" class=\"dataframe\">\n",
       "  <thead>\n",
       "    <tr style=\"text-align: right;\">\n",
       "      <th></th>\n",
       "      <th>Title</th>\n",
       "      <th>Description</th>\n",
       "      <th>Primary Description</th>\n",
       "      <th>Detail URL</th>\n",
       "      <th>Location</th>\n",
       "      <th>Skill</th>\n",
       "      <th>Insight</th>\n",
       "      <th>Job State</th>\n",
       "      <th>Poster Id</th>\n",
       "      <th>Company Name</th>\n",
       "      <th>Company Logo</th>\n",
       "      <th>Created At</th>\n",
       "      <th>Scraped At</th>\n",
       "    </tr>\n",
       "  </thead>\n",
       "  <tbody>\n",
       "  </tbody>\n",
       "</table>\n",
       "</div>"
      ],
      "text/plain": [
       "Empty DataFrame\n",
       "Columns: [Title, Description, Primary Description, Detail URL, Location, Skill, Insight, Job State, Poster Id, Company Name, Company Logo, Created At, Scraped At]\n",
       "Index: []"
      ]
     },
     "execution_count": 14,
     "metadata": {},
     "output_type": "execute_result"
    }
   ],
   "source": [
    "ser_skill = df['Skill'].str.contains('robotics', case=False, regex=True, na=False).dropna()\n",
    "df[ser_skill].iloc[40:50]"
   ]
  },
  {
   "cell_type": "code",
   "execution_count": 15,
   "id": "dadf2c32-63e6-4719-945e-692c19fe7d64",
   "metadata": {},
   "outputs": [],
   "source": [
    "string_list = df['Skill'].dropna().tolist()\n",
    "def remove_words(text):\n",
    "    text = text.replace('Skills: ', \"\")\n",
    "    text = text.strip()\n",
    "    return text\n",
    "\n",
    "# Применение функции к каждому элементу списка\n",
    "modified_list = [remove_words(text) for text in string_list]\n"
   ]
  },
  {
   "cell_type": "code",
   "execution_count": 16,
   "id": "bed5c884-bdb1-47d1-978e-71b78120d6e1",
   "metadata": {},
   "outputs": [
    {
     "data": {
      "text/plain": [
       "0                 [Problem, Solving]\n",
       "1       [Back-End, Web, Development]\n",
       "2            [Software, Development]\n",
       "3                         [+8, more]\n",
       "4                        [Databases]\n",
       "                    ...             \n",
       "2152                    [TypeScript]\n",
       "2153                      [+8, more]\n",
       "2154                   [Programming]\n",
       "2155    [Back-End, Web, Development]\n",
       "2156                      [+8, more]\n",
       "Name: Combined_skills, Length: 2157, dtype: object"
      ]
     },
     "execution_count": 16,
     "metadata": {},
     "output_type": "execute_result"
    }
   ],
   "source": [
    "values_combined = ','.join(map(str, modified_list))\n",
    "values_list = values_combined.split(',')\n",
    "values_list = [s.split() for  s in values_list]\n",
    "new_series = pd.Series(values_list, name='Combined_skills')\n",
    "new_series"
   ]
  },
  {
   "cell_type": "code",
   "execution_count": 17,
   "id": "0e741159-922e-4284-8252-6cd3e76a54ee",
   "metadata": {},
   "outputs": [
    {
     "data": {
      "text/plain": [
       "Combined_skills\n",
       "[+8, more]                           521\n",
       "[Software, Development]              101\n",
       "[Python, (Programming, Language)]     77\n",
       "[Back-End, Web, Development]          68\n",
       "[English]                             61\n",
       "                                    ... \n",
       "[Process, Auditing]                    1\n",
       "[Angular]                              1\n",
       "[Vulnerability, Management]            1\n",
       "[Vulnerability]                        1\n",
       "[Team, Management]                     1\n",
       "Name: count, Length: 386, dtype: int64"
      ]
     },
     "execution_count": 17,
     "metadata": {},
     "output_type": "execute_result"
    }
   ],
   "source": [
    "counts = new_series.value_counts()\n",
    "counts"
   ]
  },
  {
   "cell_type": "code",
   "execution_count": 18,
   "id": "8c562b11-c7ca-4635-820c-d4b57428c092",
   "metadata": {},
   "outputs": [
    {
     "name": "stdout",
     "output_type": "stream",
     "text": [
      "Результат value_counts() сохранен в файл /home/fly/temp/value_counts.txt\n"
     ]
    }
   ],
   "source": [
    "# Имя файла для сохранения\n",
    "filename = '/home/fly/temp/value_counts.txt'\n",
    "\n",
    "# Сохранение результата в файл\n",
    "with open(filename, 'w') as file:\n",
    "    file.write(counts.to_string())\n",
    "\n",
    "print(f\"Результат value_counts() сохранен в файл {filename}\")"
   ]
  },
  {
   "cell_type": "code",
   "execution_count": 19,
   "id": "06eb57d1-0390-454a-bd3a-d8204283c202",
   "metadata": {},
   "outputs": [
    {
     "data": {
      "text/html": [
       "<div>\n",
       "<style scoped>\n",
       "    .dataframe tbody tr th:only-of-type {\n",
       "        vertical-align: middle;\n",
       "    }\n",
       "\n",
       "    .dataframe tbody tr th {\n",
       "        vertical-align: top;\n",
       "    }\n",
       "\n",
       "    .dataframe thead th {\n",
       "        text-align: right;\n",
       "    }\n",
       "</style>\n",
       "<table border=\"1\" class=\"dataframe\">\n",
       "  <thead>\n",
       "    <tr style=\"text-align: right;\">\n",
       "      <th></th>\n",
       "      <th>Title</th>\n",
       "      <th>Description</th>\n",
       "      <th>Primary Description</th>\n",
       "      <th>Detail URL</th>\n",
       "      <th>Location</th>\n",
       "      <th>Skill</th>\n",
       "      <th>Insight</th>\n",
       "      <th>Job State</th>\n",
       "      <th>Poster Id</th>\n",
       "      <th>Company Name</th>\n",
       "      <th>Company Logo</th>\n",
       "      <th>Created At</th>\n",
       "      <th>Scraped At</th>\n",
       "    </tr>\n",
       "  </thead>\n",
       "  <tbody>\n",
       "    <tr>\n",
       "      <th>7</th>\n",
       "      <td>Azure Cloud Engineer</td>\n",
       "      <td>&lt;br&gt;Company Description&lt;br&gt;&lt;br&gt;As a part of De...</td>\n",
       "      <td>Devoteam · Novi Sad, Vojvodina, Serbia (Hybrid)</td>\n",
       "      <td>&lt;a href=\"https://www.linkedin.com/jobs/view/37...</td>\n",
       "      <td>Novi Sad, Vojvodina, Serbia</td>\n",
       "      <td>Skills: Python (Programming Language), Communi...</td>\n",
       "      <td>NaN</td>\n",
       "      <td>LISTED</td>\n",
       "      <td>370344908.0</td>\n",
       "      <td>Devoteam</td>\n",
       "      <td>https://media.licdn.com/dms/image/v2/C560BAQEl...</td>\n",
       "      <td>2023-10-13T20:17:04.000Z</td>\n",
       "      <td>2024-08-26T00:18:48.817Z</td>\n",
       "    </tr>\n",
       "    <tr>\n",
       "      <th>8</th>\n",
       "      <td>Google Cloud Engineer</td>\n",
       "      <td>&lt;br&gt;Company Description&lt;br&gt;&lt;br&gt;As a part of De...</td>\n",
       "      <td>Devoteam · Novi Sad, Vojvodina, Serbia (Remote)</td>\n",
       "      <td>&lt;a href=\"https://www.linkedin.com/jobs/view/37...</td>\n",
       "      <td>Novi Sad, Vojvodina, Serbia</td>\n",
       "      <td>Skills: Python (Programming Language), English...</td>\n",
       "      <td>NaN</td>\n",
       "      <td>LISTED</td>\n",
       "      <td>370344908.0</td>\n",
       "      <td>Devoteam</td>\n",
       "      <td>https://media.licdn.com/dms/image/v2/C560BAQEl...</td>\n",
       "      <td>2023-10-13T20:17:04.000Z</td>\n",
       "      <td>2024-08-26T00:16:01.744Z</td>\n",
       "    </tr>\n",
       "    <tr>\n",
       "      <th>9</th>\n",
       "      <td>AWS Cloud Engineer</td>\n",
       "      <td>&lt;br&gt;Company Description&lt;br&gt;&lt;br&gt;As a part of De...</td>\n",
       "      <td>Devoteam · Novi Sad, Vojvodina, Serbia (Hybrid)</td>\n",
       "      <td>&lt;a href=\"https://www.linkedin.com/jobs/view/37...</td>\n",
       "      <td>Novi Sad, Vojvodina, Serbia</td>\n",
       "      <td>Skills: Python (Programming Language), Communi...</td>\n",
       "      <td>NaN</td>\n",
       "      <td>LISTED</td>\n",
       "      <td>370344908.0</td>\n",
       "      <td>Devoteam</td>\n",
       "      <td>https://media.licdn.com/dms/image/v2/C560BAQEl...</td>\n",
       "      <td>2023-10-13T20:17:05.000Z</td>\n",
       "      <td>2024-08-26T00:20:51.389Z</td>\n",
       "    </tr>\n",
       "    <tr>\n",
       "      <th>37</th>\n",
       "      <td>Senior Embedded Software Architect (Hybrid)</td>\n",
       "      <td>Orion Innovation is a premier, award-winning, ...</td>\n",
       "      <td>Orion Innovation · Serbia (Hybrid)</td>\n",
       "      <td>&lt;a href=\"https://www.linkedin.com/jobs/view/38...</td>\n",
       "      <td>Serbia</td>\n",
       "      <td>Skills: C (Programming Language), Python (Prog...</td>\n",
       "      <td>1 connection works here</td>\n",
       "      <td>LISTED</td>\n",
       "      <td>42995920.0</td>\n",
       "      <td>Orion Innovation</td>\n",
       "      <td>https://media.licdn.com/dms/image/v2/D560BAQG3...</td>\n",
       "      <td>2024-03-05T15:38:40.000Z</td>\n",
       "      <td>2024-08-26T00:14:37.724Z</td>\n",
       "    </tr>\n",
       "    <tr>\n",
       "      <th>43</th>\n",
       "      <td>Senior Full-Stack Engineer Python/React</td>\n",
       "      <td>Gorgias empowers ecommerce brands to grow thro...</td>\n",
       "      <td>Gorgias · Belgrade, Serbia (On-site)</td>\n",
       "      <td>&lt;a href=\"https://www.linkedin.com/jobs/view/38...</td>\n",
       "      <td>Belgrade, Serbia</td>\n",
       "      <td>Skills: Back-End Web Development, Python (Prog...</td>\n",
       "      <td>NaN</td>\n",
       "      <td>LISTED</td>\n",
       "      <td>NaN</td>\n",
       "      <td>Gorgias</td>\n",
       "      <td>https://media.licdn.com/dms/image/v2/D560BAQGw...</td>\n",
       "      <td>2024-03-17T04:31:53.000Z</td>\n",
       "      <td>2024-08-26T00:19:48.777Z</td>\n",
       "    </tr>\n",
       "    <tr>\n",
       "      <th>...</th>\n",
       "      <td>...</td>\n",
       "      <td>...</td>\n",
       "      <td>...</td>\n",
       "      <td>...</td>\n",
       "      <td>...</td>\n",
       "      <td>...</td>\n",
       "      <td>...</td>\n",
       "      <td>...</td>\n",
       "      <td>...</td>\n",
       "      <td>...</td>\n",
       "      <td>...</td>\n",
       "      <td>...</td>\n",
       "      <td>...</td>\n",
       "    </tr>\n",
       "    <tr>\n",
       "      <th>737</th>\n",
       "      <td>Staff Software Engineer (Nutanix Database Clou...</td>\n",
       "      <td>Hungry, Humble, Honest, with Heart.&lt;br&gt;&lt;br&gt;The...</td>\n",
       "      <td>Nutanix · Belgrade, Serbia (On-site)</td>\n",
       "      <td>&lt;a href=\"https://www.linkedin.com/jobs/view/40...</td>\n",
       "      <td>Belgrade, Serbia</td>\n",
       "      <td>Skills: Python (Programming Language), Java, +...</td>\n",
       "      <td>NaN</td>\n",
       "      <td>LISTED</td>\n",
       "      <td>389041667.0</td>\n",
       "      <td>Nutanix</td>\n",
       "      <td>https://media.licdn.com/dms/image/v2/D560BAQGx...</td>\n",
       "      <td>2024-08-21T15:38:11.000Z</td>\n",
       "      <td>2024-08-26T00:17:49.227Z</td>\n",
       "    </tr>\n",
       "    <tr>\n",
       "      <th>740</th>\n",
       "      <td>Automation Support Engineer</td>\n",
       "      <td>Playrix — одна из самых успешных компаний по р...</td>\n",
       "      <td>Playrix · Serbia (Remote)</td>\n",
       "      <td>&lt;a href=\"https://www.linkedin.com/jobs/view/40...</td>\n",
       "      <td>Serbia</td>\n",
       "      <td>Skills: Python (Programming Language), SQL, +7...</td>\n",
       "      <td>5 connections work here · 52 school alumni wor...</td>\n",
       "      <td>LISTED</td>\n",
       "      <td>927936280.0</td>\n",
       "      <td>Playrix</td>\n",
       "      <td>https://media.licdn.com/dms/image/v2/C4D0BAQFe...</td>\n",
       "      <td>2024-08-21T16:22:16.000Z</td>\n",
       "      <td>2024-08-26T00:19:00.522Z</td>\n",
       "    </tr>\n",
       "    <tr>\n",
       "      <th>757</th>\n",
       "      <td>Software Localization Engineer</td>\n",
       "      <td>Playrix — одна из самых успешных компаний по р...</td>\n",
       "      <td>Playrix · Serbia (Remote)</td>\n",
       "      <td>&lt;a href=\"https://www.linkedin.com/jobs/view/40...</td>\n",
       "      <td>Serbia</td>\n",
       "      <td>Skills: REST APIs, Python (Programming Languag...</td>\n",
       "      <td>5 connections work here · 52 school alumni wor...</td>\n",
       "      <td>LISTED</td>\n",
       "      <td>927936280.0</td>\n",
       "      <td>Playrix</td>\n",
       "      <td>https://media.licdn.com/dms/image/v2/C4D0BAQFe...</td>\n",
       "      <td>2024-08-22T20:59:38.000Z</td>\n",
       "      <td>2024-08-26T00:17:13.628Z</td>\n",
       "    </tr>\n",
       "    <tr>\n",
       "      <th>772</th>\n",
       "      <td>Software Engineer (Hybrid Cloud DataStore)</td>\n",
       "      <td>Hungry, Humble, Honest, with Heart.&lt;br&gt;&lt;br&gt;The...</td>\n",
       "      <td>Nutanix · Belgrade, Serbia (On-site)</td>\n",
       "      <td>&lt;a href=\"https://www.linkedin.com/jobs/view/40...</td>\n",
       "      <td>Belgrade, Serbia</td>\n",
       "      <td>Skills: C (Programming Language), Python (Prog...</td>\n",
       "      <td>NaN</td>\n",
       "      <td>LISTED</td>\n",
       "      <td>389041667.0</td>\n",
       "      <td>Nutanix</td>\n",
       "      <td>https://media.licdn.com/dms/image/v2/D560BAQGx...</td>\n",
       "      <td>2024-08-23T21:42:41.000Z</td>\n",
       "      <td>2024-08-26T00:16:37.678Z</td>\n",
       "    </tr>\n",
       "    <tr>\n",
       "      <th>773</th>\n",
       "      <td>Junior Python Engineer</td>\n",
       "      <td>Position Type&lt;br&gt;&lt;br&gt;Full time&lt;br&gt;&lt;br&gt;Type Of ...</td>\n",
       "      <td>FIS · Belgrade, Serbia</td>\n",
       "      <td>&lt;a href=\"https://www.linkedin.com/jobs/view/40...</td>\n",
       "      <td>Belgrade, Serbia</td>\n",
       "      <td>Skills: Python (Programming Language), Softwar...</td>\n",
       "      <td>NaN</td>\n",
       "      <td>LISTED</td>\n",
       "      <td>18485937.0</td>\n",
       "      <td>FIS</td>\n",
       "      <td>https://media.licdn.com/dms/image/v2/C4E0BAQEo...</td>\n",
       "      <td>2024-08-23T21:59:12.000Z</td>\n",
       "      <td>2024-08-26T00:16:25.911Z</td>\n",
       "    </tr>\n",
       "  </tbody>\n",
       "</table>\n",
       "<p>77 rows × 13 columns</p>\n",
       "</div>"
      ],
      "text/plain": [
       "                                                 Title  \\\n",
       "7                                 Azure Cloud Engineer   \n",
       "8                                Google Cloud Engineer   \n",
       "9                                   AWS Cloud Engineer   \n",
       "37         Senior Embedded Software Architect (Hybrid)   \n",
       "43             Senior Full-Stack Engineer Python/React   \n",
       "..                                                 ...   \n",
       "737  Staff Software Engineer (Nutanix Database Clou...   \n",
       "740                        Automation Support Engineer   \n",
       "757                     Software Localization Engineer   \n",
       "772         Software Engineer (Hybrid Cloud DataStore)   \n",
       "773                             Junior Python Engineer   \n",
       "\n",
       "                                           Description  \\\n",
       "7    <br>Company Description<br><br>As a part of De...   \n",
       "8    <br>Company Description<br><br>As a part of De...   \n",
       "9    <br>Company Description<br><br>As a part of De...   \n",
       "37   Orion Innovation is a premier, award-winning, ...   \n",
       "43   Gorgias empowers ecommerce brands to grow thro...   \n",
       "..                                                 ...   \n",
       "737  Hungry, Humble, Honest, with Heart.<br><br>The...   \n",
       "740  Playrix — одна из самых успешных компаний по р...   \n",
       "757  Playrix — одна из самых успешных компаний по р...   \n",
       "772  Hungry, Humble, Honest, with Heart.<br><br>The...   \n",
       "773  Position Type<br><br>Full time<br><br>Type Of ...   \n",
       "\n",
       "                                 Primary Description  \\\n",
       "7    Devoteam · Novi Sad, Vojvodina, Serbia (Hybrid)   \n",
       "8    Devoteam · Novi Sad, Vojvodina, Serbia (Remote)   \n",
       "9    Devoteam · Novi Sad, Vojvodina, Serbia (Hybrid)   \n",
       "37                Orion Innovation · Serbia (Hybrid)   \n",
       "43              Gorgias · Belgrade, Serbia (On-site)   \n",
       "..                                               ...   \n",
       "737             Nutanix · Belgrade, Serbia (On-site)   \n",
       "740                        Playrix · Serbia (Remote)   \n",
       "757                        Playrix · Serbia (Remote)   \n",
       "772             Nutanix · Belgrade, Serbia (On-site)   \n",
       "773                           FIS · Belgrade, Serbia   \n",
       "\n",
       "                                            Detail URL  \\\n",
       "7    <a href=\"https://www.linkedin.com/jobs/view/37...   \n",
       "8    <a href=\"https://www.linkedin.com/jobs/view/37...   \n",
       "9    <a href=\"https://www.linkedin.com/jobs/view/37...   \n",
       "37   <a href=\"https://www.linkedin.com/jobs/view/38...   \n",
       "43   <a href=\"https://www.linkedin.com/jobs/view/38...   \n",
       "..                                                 ...   \n",
       "737  <a href=\"https://www.linkedin.com/jobs/view/40...   \n",
       "740  <a href=\"https://www.linkedin.com/jobs/view/40...   \n",
       "757  <a href=\"https://www.linkedin.com/jobs/view/40...   \n",
       "772  <a href=\"https://www.linkedin.com/jobs/view/40...   \n",
       "773  <a href=\"https://www.linkedin.com/jobs/view/40...   \n",
       "\n",
       "                        Location  \\\n",
       "7    Novi Sad, Vojvodina, Serbia   \n",
       "8    Novi Sad, Vojvodina, Serbia   \n",
       "9    Novi Sad, Vojvodina, Serbia   \n",
       "37                        Serbia   \n",
       "43              Belgrade, Serbia   \n",
       "..                           ...   \n",
       "737             Belgrade, Serbia   \n",
       "740                       Serbia   \n",
       "757                       Serbia   \n",
       "772             Belgrade, Serbia   \n",
       "773             Belgrade, Serbia   \n",
       "\n",
       "                                                 Skill  \\\n",
       "7    Skills: Python (Programming Language), Communi...   \n",
       "8    Skills: Python (Programming Language), English...   \n",
       "9    Skills: Python (Programming Language), Communi...   \n",
       "37   Skills: C (Programming Language), Python (Prog...   \n",
       "43   Skills: Back-End Web Development, Python (Prog...   \n",
       "..                                                 ...   \n",
       "737  Skills: Python (Programming Language), Java, +...   \n",
       "740  Skills: Python (Programming Language), SQL, +7...   \n",
       "757  Skills: REST APIs, Python (Programming Languag...   \n",
       "772  Skills: C (Programming Language), Python (Prog...   \n",
       "773  Skills: Python (Programming Language), Softwar...   \n",
       "\n",
       "                                               Insight Job State    Poster Id  \\\n",
       "7                                                  NaN    LISTED  370344908.0   \n",
       "8                                                  NaN    LISTED  370344908.0   \n",
       "9                                                  NaN    LISTED  370344908.0   \n",
       "37                             1 connection works here    LISTED   42995920.0   \n",
       "43                                                 NaN    LISTED          NaN   \n",
       "..                                                 ...       ...          ...   \n",
       "737                                                NaN    LISTED  389041667.0   \n",
       "740  5 connections work here · 52 school alumni wor...    LISTED  927936280.0   \n",
       "757  5 connections work here · 52 school alumni wor...    LISTED  927936280.0   \n",
       "772                                                NaN    LISTED  389041667.0   \n",
       "773                                                NaN    LISTED   18485937.0   \n",
       "\n",
       "         Company Name                                       Company Logo  \\\n",
       "7            Devoteam  https://media.licdn.com/dms/image/v2/C560BAQEl...   \n",
       "8            Devoteam  https://media.licdn.com/dms/image/v2/C560BAQEl...   \n",
       "9            Devoteam  https://media.licdn.com/dms/image/v2/C560BAQEl...   \n",
       "37   Orion Innovation  https://media.licdn.com/dms/image/v2/D560BAQG3...   \n",
       "43            Gorgias  https://media.licdn.com/dms/image/v2/D560BAQGw...   \n",
       "..                ...                                                ...   \n",
       "737           Nutanix  https://media.licdn.com/dms/image/v2/D560BAQGx...   \n",
       "740           Playrix  https://media.licdn.com/dms/image/v2/C4D0BAQFe...   \n",
       "757           Playrix  https://media.licdn.com/dms/image/v2/C4D0BAQFe...   \n",
       "772           Nutanix  https://media.licdn.com/dms/image/v2/D560BAQGx...   \n",
       "773               FIS  https://media.licdn.com/dms/image/v2/C4E0BAQEo...   \n",
       "\n",
       "                   Created At                Scraped At  \n",
       "7    2023-10-13T20:17:04.000Z  2024-08-26T00:18:48.817Z  \n",
       "8    2023-10-13T20:17:04.000Z  2024-08-26T00:16:01.744Z  \n",
       "9    2023-10-13T20:17:05.000Z  2024-08-26T00:20:51.389Z  \n",
       "37   2024-03-05T15:38:40.000Z  2024-08-26T00:14:37.724Z  \n",
       "43   2024-03-17T04:31:53.000Z  2024-08-26T00:19:48.777Z  \n",
       "..                        ...                       ...  \n",
       "737  2024-08-21T15:38:11.000Z  2024-08-26T00:17:49.227Z  \n",
       "740  2024-08-21T16:22:16.000Z  2024-08-26T00:19:00.522Z  \n",
       "757  2024-08-22T20:59:38.000Z  2024-08-26T00:17:13.628Z  \n",
       "772  2024-08-23T21:42:41.000Z  2024-08-26T00:16:37.678Z  \n",
       "773  2024-08-23T21:59:12.000Z  2024-08-26T00:16:25.911Z  \n",
       "\n",
       "[77 rows x 13 columns]"
      ]
     },
     "execution_count": 19,
     "metadata": {},
     "output_type": "execute_result"
    }
   ],
   "source": [
    "filtered_df = df[df['Skill'].str.contains('python', case=False, na=False)]\n",
    "filtered_df"
   ]
  },
  {
   "cell_type": "code",
   "execution_count": 33,
   "id": "520cc932-670b-415d-8a2d-6e93a219fd0d",
   "metadata": {},
   "outputs": [],
   "source": [
    "def get_count(key_word):\n",
    "    filtered_df = df[df['Description'].str.contains(key_word, case=False, na=False)]\n",
    "    print(filtered_df.shape)"
   ]
  },
  {
   "cell_type": "code",
   "execution_count": 34,
   "id": "74c94643-d87c-46fd-8412-ea77aedee006",
   "metadata": {},
   "outputs": [
    {
     "name": "stdout",
     "output_type": "stream",
     "text": [
      "(89, 13)\n"
     ]
    }
   ],
   "source": [
    "get_count(\"stm\")"
   ]
  },
  {
   "cell_type": "code",
   "execution_count": 20,
   "id": "30c831b7-b3e6-4f39-a381-1bac8df985f4",
   "metadata": {},
   "outputs": [
    {
     "data": {
      "text/plain": [
       "(207, 13)"
      ]
     },
     "execution_count": 20,
     "metadata": {},
     "output_type": "execute_result"
    }
   ],
   "source": [
    "filtered_df = df[df['Description'].str.contains('web', case=False, na=False)]\n",
    "filtered_df.shape"
   ]
  },
  {
   "cell_type": "code",
   "execution_count": 26,
   "id": "161aed55-df26-460f-98b7-624e3f511292",
   "metadata": {},
   "outputs": [
    {
     "data": {
      "text/plain": [
       "(261, 13)"
      ]
     },
     "execution_count": 26,
     "metadata": {},
     "output_type": "execute_result"
    }
   ],
   "source": [
    "filtered_df = df[df['Description'].str.contains('cloud', case=False, na=False)]\n",
    "filtered_df.shape"
   ]
  },
  {
   "cell_type": "code",
   "execution_count": 25,
   "id": "44089a05-3637-4e7f-947a-1f446b76c33f",
   "metadata": {},
   "outputs": [
    {
     "data": {
      "text/plain": [
       "(116, 13)"
      ]
     },
     "execution_count": 25,
     "metadata": {},
     "output_type": "execute_result"
    }
   ],
   "source": [
    "filtered_df = df[df['Description'].str.contains('backend', case=False, na=False)]\n",
    "filtered_df.shape"
   ]
  },
  {
   "cell_type": "code",
   "execution_count": 29,
   "id": "eadbae29-3af9-4305-8d77-249eee4b053c",
   "metadata": {},
   "outputs": [
    {
     "data": {
      "text/plain": [
       "(83, 13)"
      ]
     },
     "execution_count": 29,
     "metadata": {},
     "output_type": "execute_result"
    }
   ],
   "source": [
    "filtered_df = df[df['Description'].str.contains('game', case=False, na=False)]\n",
    "filtered_df.shape"
   ]
  },
  {
   "cell_type": "code",
   "execution_count": 27,
   "id": "a976da26-4f21-4aef-84bc-8d0c551e24c9",
   "metadata": {},
   "outputs": [
    {
     "data": {
      "text/plain": [
       "(12, 13)"
      ]
     },
     "execution_count": 27,
     "metadata": {},
     "output_type": "execute_result"
    }
   ],
   "source": [
    "filtered_df = df[df['Description'].str.contains('computer vision', case=False, na=False)]\n",
    "filtered_df.shape"
   ]
  },
  {
   "cell_type": "code",
   "execution_count": 21,
   "id": "17d5068f-5d14-4784-9be0-46b4346b197c",
   "metadata": {},
   "outputs": [
    {
     "data": {
      "text/plain": [
       "(124, 13)"
      ]
     },
     "execution_count": 21,
     "metadata": {},
     "output_type": "execute_result"
    }
   ],
   "source": [
    "filtered_df = df[df['Description'].str.contains('c\\+\\+', case=False, na=False)]\n",
    "filtered_df.shape"
   ]
  },
  {
   "cell_type": "code",
   "execution_count": 22,
   "id": "8af4e4ec-e8bf-4248-97fc-fbc98fb6cfd6",
   "metadata": {},
   "outputs": [
    {
     "data": {
      "text/plain": [
       "(284, 13)"
      ]
     },
     "execution_count": 22,
     "metadata": {},
     "output_type": "execute_result"
    }
   ],
   "source": [
    "filtered_df = df[df['Description'].str.contains('python', case=False, na=False)]\n",
    "filtered_df.shape"
   ]
  },
  {
   "cell_type": "code",
   "execution_count": 23,
   "id": "87555bde-0c49-4e71-aa00-7b7a67d4d268",
   "metadata": {},
   "outputs": [
    {
     "data": {
      "text/plain": [
       "(8, 13)"
      ]
     },
     "execution_count": 23,
     "metadata": {},
     "output_type": "execute_result"
    }
   ],
   "source": [
    "filtered_df = df[df['Description'].str.contains('robotics', case=False, na=False)]\n",
    "filtered_df.shape"
   ]
  },
  {
   "cell_type": "code",
   "execution_count": 28,
   "id": "699d5e69-9df3-4ad9-8173-75b85de1d06c",
   "metadata": {},
   "outputs": [
    {
     "data": {
      "text/plain": [
       "(44, 13)"
      ]
     },
     "execution_count": 28,
     "metadata": {},
     "output_type": "execute_result"
    }
   ],
   "source": [
    "\n",
    "filtered_df = df[df['Description'].str.contains('automotive', case=False, na=False)]\n",
    "filtered_df.shape"
   ]
  },
  {
   "cell_type": "code",
   "execution_count": 24,
   "id": "572b9bb9-093c-451a-89b2-0a359dc744fe",
   "metadata": {},
   "outputs": [
    {
     "data": {
      "text/plain": [
       "(47, 13)"
      ]
     },
     "execution_count": 24,
     "metadata": {},
     "output_type": "execute_result"
    }
   ],
   "source": [
    "filtered_df = df[df['Description'].str.contains('embed', case=False, na=False)]\n",
    "filtered_df.shape"
   ]
  },
  {
   "cell_type": "code",
   "execution_count": 30,
   "id": "4eadfaa0-df1b-4391-ad09-64be5c39a8c2",
   "metadata": {},
   "outputs": [
    {
     "data": {
      "text/plain": [
       "(19, 13)"
      ]
     },
     "execution_count": 30,
     "metadata": {},
     "output_type": "execute_result"
    }
   ],
   "source": [
    "filtered_df = df[df['Description'].str.contains('kernel', case=False, na=False)]\n",
    "filtered_df.shape"
   ]
  },
  {
   "cell_type": "code",
   "execution_count": 35,
   "id": "4ccb6727-c701-4aac-816f-0e072d72e6d7",
   "metadata": {},
   "outputs": [
    {
     "name": "stdout",
     "output_type": "stream",
     "text": [
      "(43, 13)\n"
     ]
    }
   ],
   "source": [
    "get_count('driver')"
   ]
  }
 ],
 "metadata": {
  "kernelspec": {
   "display_name": "Python 3 (ipykernel)",
   "language": "python",
   "name": "python3"
  },
  "language_info": {
   "codemirror_mode": {
    "name": "ipython",
    "version": 3
   },
   "file_extension": ".py",
   "mimetype": "text/x-python",
   "name": "python",
   "nbconvert_exporter": "python",
   "pygments_lexer": "ipython3",
   "version": "3.8.10"
  }
 },
 "nbformat": 4,
 "nbformat_minor": 5
}
