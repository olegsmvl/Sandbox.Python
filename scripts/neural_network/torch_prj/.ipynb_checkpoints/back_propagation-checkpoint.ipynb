{
 "cells": [
  {
   "cell_type": "code",
   "execution_count": 2,
   "id": "79b4312b-e1d1-4f7f-b893-f82407143f47",
   "metadata": {},
   "outputs": [],
   "source": [
    "import torch\n",
    "import torch.nn as nn\n",
    "import torch.optim as optim\n",
    "\n",
    "# Пример данных: простая выборка с функцией потерь MSE\n",
    "x = torch.tensor([[1.0], [2.0], [3.0], [4.0]], requires_grad=True)\n",
    "y = torch.tensor([[2.0], [4.0], [6.0], [8.0]], requires_grad=True)"
   ]
  },
  {
   "cell_type": "code",
   "execution_count": 3,
   "id": "bd9b8482-0091-495d-9d48-00dbcaba036f",
   "metadata": {},
   "outputs": [],
   "source": [
    "class SimpleModel(nn.Module):\n",
    "    def __init__(self):\n",
    "        super(SimpleModel, self).__init__()\n",
    "        self.linear = nn.Linear(1, 1)  # Простая линейная модель\n",
    "\n",
    "    def forward(self, x):\n",
    "        return self.linear(x)\n",
    "\n",
    "model = SimpleModel()"
   ]
  },
  {
   "cell_type": "code",
   "execution_count": 4,
   "id": "15d7a0fb-0dd5-45ff-a839-69317b5c0955",
   "metadata": {},
   "outputs": [
    {
     "name": "stderr",
     "output_type": "stream",
     "text": [
      "/home/fly/code/Sandbox.Python/scripts/neural_network/torch_prj/venv/lib/python3.8/site-packages/tqdm/auto.py:21: TqdmWarning: IProgress not found. Please update jupyter and ipywidgets. See https://ipywidgets.readthedocs.io/en/stable/user_install.html\n",
      "  from .autonotebook import tqdm as notebook_tqdm\n"
     ]
    }
   ],
   "source": [
    "criterion = nn.MSELoss()  # Среднеквадратичная ошибка\n",
    "optimizer = optim.SGD(model.parameters(), lr=0.01)  # Стохастический градиентный спуск\n"
   ]
  },
  {
   "cell_type": "code",
   "execution_count": null,
   "id": "ba1164b8-e709-4c49-8930-9b86f179197e",
   "metadata": {},
   "outputs": [],
   "source": []
  }
 ],
 "metadata": {
  "kernelspec": {
   "display_name": "Python 3 (ipykernel)",
   "language": "python",
   "name": "python3"
  },
  "language_info": {
   "codemirror_mode": {
    "name": "ipython",
    "version": 3
   },
   "file_extension": ".py",
   "mimetype": "text/x-python",
   "name": "python",
   "nbconvert_exporter": "python",
   "pygments_lexer": "ipython3",
   "version": "3.8.10"
  }
 },
 "nbformat": 4,
 "nbformat_minor": 5
}
