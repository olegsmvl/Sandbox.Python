{
 "cells": [
  {
   "cell_type": "code",
   "execution_count": 1,
   "id": "79b4312b-e1d1-4f7f-b893-f82407143f47",
   "metadata": {},
   "outputs": [],
   "source": [
    "import torch\n",
    "import torch.nn as nn\n",
    "import torch.optim as optim\n",
    "\n",
    "# Пример данных: простая выборка с функцией потерь MSE\n",
    "x = torch.tensor([[1.0], [2.0], [3.0], [4.0]], requires_grad=True)\n",
    "y = torch.tensor([[2.0], [4.0], [6.0], [8.0]], requires_grad=True)"
   ]
  },
  {
   "cell_type": "code",
   "execution_count": 2,
   "id": "bd9b8482-0091-495d-9d48-00dbcaba036f",
   "metadata": {},
   "outputs": [],
   "source": [
    "class SimpleModel(nn.Module):\n",
    "    def __init__(self):\n",
    "        super(SimpleModel, self).__init__()\n",
    "        self.linear = nn.Linear(1, 1)  # Простая линейная модель\n",
    "\n",
    "    def forward(self, x):\n",
    "        return self.linear(x)\n",
    "\n",
    "model = SimpleModel()"
   ]
  },
  {
   "cell_type": "code",
   "execution_count": 3,
   "id": "15d7a0fb-0dd5-45ff-a839-69317b5c0955",
   "metadata": {},
   "outputs": [],
   "source": [
    "criterion = nn.MSELoss()  # Среднеквадратичная ошибка\n",
    "optimizer = optim.SGD(model.parameters(), lr=0.01)  # Стохастический градиентный спуск\n"
   ]
  },
  {
   "cell_type": "code",
   "execution_count": 4,
   "id": "ba1164b8-e709-4c49-8930-9b86f179197e",
   "metadata": {},
   "outputs": [
    {
     "name": "stdout",
     "output_type": "stream",
     "text": [
      "Epoch [0/1000], Loss: 21.1189\n",
      "Epoch [100/1000], Loss: 0.0361\n",
      "Epoch [200/1000], Loss: 0.0198\n",
      "Epoch [300/1000], Loss: 0.0109\n",
      "Epoch [400/1000], Loss: 0.0060\n",
      "Epoch [500/1000], Loss: 0.0033\n",
      "Epoch [600/1000], Loss: 0.0018\n",
      "Epoch [700/1000], Loss: 0.0010\n",
      "Epoch [800/1000], Loss: 0.0005\n",
      "Epoch [900/1000], Loss: 0.0003\n"
     ]
    }
   ],
   "source": [
    "for epoch in range(1000):  # Количество эпох обучения\n",
    "    optimizer.zero_grad()  # Обнуление градиентов\n",
    "    outputs = model(x)  # Прямое распространение\n",
    "    loss = criterion(outputs, y)  # Вычисление функции потерь\n",
    "    loss.backward()  # Обратное распространение\n",
    "    optimizer.step()  # Обновление параметров\n",
    "\n",
    "    if epoch % 100 == 0:\n",
    "        print(f'Epoch [{epoch}/1000], Loss: {loss.item():.4f}')\n"
   ]
  },
  {
   "cell_type": "code",
   "execution_count": null,
   "id": "b61237bd-f451-4da9-b8ac-4ba46f40da3e",
   "metadata": {},
   "outputs": [],
   "source": []
  }
 ],
 "metadata": {
  "kernelspec": {
   "display_name": "Python 3 (ipykernel)",
   "language": "python",
   "name": "python3"
  },
  "language_info": {
   "codemirror_mode": {
    "name": "ipython",
    "version": 3
   },
   "file_extension": ".py",
   "mimetype": "text/x-python",
   "name": "python",
   "nbconvert_exporter": "python",
   "pygments_lexer": "ipython3",
   "version": "3.8.10"
  }
 },
 "nbformat": 4,
 "nbformat_minor": 5
}
