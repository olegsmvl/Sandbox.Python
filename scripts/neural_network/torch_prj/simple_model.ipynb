{
 "cells": [
  {
   "cell_type": "code",
   "execution_count": 1,
   "id": "3f5f8778-3d32-41d9-b3c4-e38a7de5eeb9",
   "metadata": {},
   "outputs": [
    {
     "name": "stdout",
     "output_type": "stream",
     "text": [
      "SimpleModel(\n",
      "  (linear1): Linear(in_features=10, out_features=5, bias=True)\n",
      "  (relu): ReLU()\n",
      "  (linear2): Linear(in_features=5, out_features=1, bias=True)\n",
      ")\n"
     ]
    }
   ],
   "source": [
    "import torch\n",
    "import torch.nn as nn\n",
    "\n",
    "# Define a simple neural network model\n",
    "class SimpleModel(nn.Module):\n",
    "    def __init__(self):\n",
    "        super(SimpleModel, self).__init__()\n",
    "        self.linear1 = nn.Linear(10, 5)  # First linear layer (input: 10 features, output: 5 features)\n",
    "        self.relu = nn.ReLU()            # Activation function\n",
    "        self.linear2 = nn.Linear(5, 1)   # Second linear layer (input: 5 features, output: 1 feature)\n",
    "\n",
    "    def forward(self, x):\n",
    "        x = self.linear1(x)  # Pass input through the first linear layer\n",
    "        x = self.relu(x)     # Apply ReLU activation function\n",
    "        x = self.linear2(x)  # Pass input through the second linear layer\n",
    "        return x\n",
    "\n",
    "# Create an instance of the model\n",
    "model = SimpleModel()\n",
    "\n",
    "# Print the model architecture\n",
    "print(model)"
   ]
  }
 ],
 "metadata": {
  "kernelspec": {
   "display_name": "Python 3 (ipykernel)",
   "language": "python",
   "name": "python3"
  },
  "language_info": {
   "codemirror_mode": {
    "name": "ipython",
    "version": 3
   },
   "file_extension": ".py",
   "mimetype": "text/x-python",
   "name": "python",
   "nbconvert_exporter": "python",
   "pygments_lexer": "ipython3",
   "version": "3.8.10"
  }
 },
 "nbformat": 4,
 "nbformat_minor": 5
}
